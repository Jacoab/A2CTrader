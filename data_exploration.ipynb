{
 "cells": [
  {
   "cell_type": "code",
   "execution_count": 1,
   "metadata": {},
   "outputs": [],
   "source": [
    "%matplotlib inline\n",
    "import matplotlib.pyplot as plt\n",
    "import pandas as pd"
   ]
  },
  {
   "cell_type": "code",
   "execution_count": 51,
   "metadata": {},
   "outputs": [
    {
     "name": "stdout",
     "output_type": "stream",
     "text": [
      "True\n"
     ]
    }
   ],
   "source": [
    "amazon = pd.read_csv('amazon')\n",
    "nvidia = pd.read_csv('nvidia')\n",
    "amd = pd.read_csv('amd')\n",
    "\n",
    "amazon_pre = amazon\n",
    "nvidia_pre = nvidia\n",
    "\n",
    "print(len(nvidia) == len(amd))\n",
    "\n",
    "#amazon.head()"
   ]
  },
  {
   "cell_type": "code",
   "execution_count": 48,
   "metadata": {},
   "outputs": [
    {
     "data": {
      "text/html": [
       "<div>\n",
       "<style scoped>\n",
       "    .dataframe tbody tr th:only-of-type {\n",
       "        vertical-align: middle;\n",
       "    }\n",
       "\n",
       "    .dataframe tbody tr th {\n",
       "        vertical-align: top;\n",
       "    }\n",
       "\n",
       "    .dataframe thead th {\n",
       "        text-align: right;\n",
       "    }\n",
       "</style>\n",
       "<table border=\"1\" class=\"dataframe\">\n",
       "  <thead>\n",
       "    <tr style=\"text-align: right;\">\n",
       "      <th></th>\n",
       "      <th>Date</th>\n",
       "      <th>Open</th>\n",
       "      <th>High</th>\n",
       "      <th>Low</th>\n",
       "      <th>Close</th>\n",
       "      <th>Volume</th>\n",
       "      <th>Ex-Dividend</th>\n",
       "      <th>Split Ratio</th>\n",
       "      <th>Adj. Open</th>\n",
       "      <th>Adj. High</th>\n",
       "      <th>Adj. Low</th>\n",
       "      <th>Adj. Close</th>\n",
       "      <th>Adj. Volume</th>\n",
       "    </tr>\n",
       "  </thead>\n",
       "  <tbody>\n",
       "    <tr>\n",
       "      <th>0</th>\n",
       "      <td>2010-01-04</td>\n",
       "      <td>9.79</td>\n",
       "      <td>9.90</td>\n",
       "      <td>9.68</td>\n",
       "      <td>9.70</td>\n",
       "      <td>18748700.0</td>\n",
       "      <td>0.0</td>\n",
       "      <td>1.0</td>\n",
       "      <td>9.79</td>\n",
       "      <td>9.90</td>\n",
       "      <td>9.68</td>\n",
       "      <td>9.70</td>\n",
       "      <td>18748700.0</td>\n",
       "    </tr>\n",
       "    <tr>\n",
       "      <th>1</th>\n",
       "      <td>2010-01-05</td>\n",
       "      <td>9.71</td>\n",
       "      <td>9.90</td>\n",
       "      <td>9.68</td>\n",
       "      <td>9.71</td>\n",
       "      <td>22145700.0</td>\n",
       "      <td>0.0</td>\n",
       "      <td>1.0</td>\n",
       "      <td>9.71</td>\n",
       "      <td>9.90</td>\n",
       "      <td>9.68</td>\n",
       "      <td>9.71</td>\n",
       "      <td>22145700.0</td>\n",
       "    </tr>\n",
       "    <tr>\n",
       "      <th>2</th>\n",
       "      <td>2010-01-06</td>\n",
       "      <td>9.68</td>\n",
       "      <td>9.76</td>\n",
       "      <td>9.55</td>\n",
       "      <td>9.57</td>\n",
       "      <td>18643400.0</td>\n",
       "      <td>0.0</td>\n",
       "      <td>1.0</td>\n",
       "      <td>9.68</td>\n",
       "      <td>9.76</td>\n",
       "      <td>9.55</td>\n",
       "      <td>9.57</td>\n",
       "      <td>18643400.0</td>\n",
       "    </tr>\n",
       "    <tr>\n",
       "      <th>3</th>\n",
       "      <td>2010-01-07</td>\n",
       "      <td>9.51</td>\n",
       "      <td>9.55</td>\n",
       "      <td>9.18</td>\n",
       "      <td>9.47</td>\n",
       "      <td>26806800.0</td>\n",
       "      <td>0.0</td>\n",
       "      <td>1.0</td>\n",
       "      <td>9.51</td>\n",
       "      <td>9.55</td>\n",
       "      <td>9.18</td>\n",
       "      <td>9.47</td>\n",
       "      <td>26806800.0</td>\n",
       "    </tr>\n",
       "    <tr>\n",
       "      <th>4</th>\n",
       "      <td>2010-01-08</td>\n",
       "      <td>9.37</td>\n",
       "      <td>9.47</td>\n",
       "      <td>9.29</td>\n",
       "      <td>9.43</td>\n",
       "      <td>13752800.0</td>\n",
       "      <td>0.0</td>\n",
       "      <td>1.0</td>\n",
       "      <td>9.37</td>\n",
       "      <td>9.47</td>\n",
       "      <td>9.29</td>\n",
       "      <td>9.43</td>\n",
       "      <td>13752800.0</td>\n",
       "    </tr>\n",
       "  </tbody>\n",
       "</table>\n",
       "</div>"
      ],
      "text/plain": [
       "         Date  Open  High   Low  Close      Volume  Ex-Dividend  Split Ratio  \\\n",
       "0  2010-01-04  9.79  9.90  9.68   9.70  18748700.0          0.0          1.0   \n",
       "1  2010-01-05  9.71  9.90  9.68   9.71  22145700.0          0.0          1.0   \n",
       "2  2010-01-06  9.68  9.76  9.55   9.57  18643400.0          0.0          1.0   \n",
       "3  2010-01-07  9.51  9.55  9.18   9.47  26806800.0          0.0          1.0   \n",
       "4  2010-01-08  9.37  9.47  9.29   9.43  13752800.0          0.0          1.0   \n",
       "\n",
       "   Adj. Open  Adj. High  Adj. Low  Adj. Close  Adj. Volume  \n",
       "0       9.79       9.90      9.68        9.70   18748700.0  \n",
       "1       9.71       9.90      9.68        9.71   22145700.0  \n",
       "2       9.68       9.76      9.55        9.57   18643400.0  \n",
       "3       9.51       9.55      9.18        9.47   26806800.0  \n",
       "4       9.37       9.47      9.29        9.43   13752800.0  "
      ]
     },
     "execution_count": 48,
     "metadata": {},
     "output_type": "execute_result"
    }
   ],
   "source": [
    "amd.head()"
   ]
  },
  {
   "cell_type": "code",
   "execution_count": 3,
   "metadata": {},
   "outputs": [
    {
     "data": {
      "text/html": [
       "<div>\n",
       "<style scoped>\n",
       "    .dataframe tbody tr th:only-of-type {\n",
       "        vertical-align: middle;\n",
       "    }\n",
       "\n",
       "    .dataframe tbody tr th {\n",
       "        vertical-align: top;\n",
       "    }\n",
       "\n",
       "    .dataframe thead th {\n",
       "        text-align: right;\n",
       "    }\n",
       "</style>\n",
       "<table border=\"1\" class=\"dataframe\">\n",
       "  <thead>\n",
       "    <tr style=\"text-align: right;\">\n",
       "      <th></th>\n",
       "      <th>Date</th>\n",
       "      <th>Open</th>\n",
       "      <th>High</th>\n",
       "      <th>Low</th>\n",
       "      <th>Close</th>\n",
       "      <th>Volume</th>\n",
       "      <th>Ex-Dividend</th>\n",
       "      <th>Split Ratio</th>\n",
       "      <th>Adj. Open</th>\n",
       "      <th>Adj. High</th>\n",
       "      <th>Adj. Low</th>\n",
       "      <th>Adj. Close</th>\n",
       "      <th>Adj. Volume</th>\n",
       "    </tr>\n",
       "  </thead>\n",
       "  <tbody>\n",
       "    <tr>\n",
       "      <th>0</th>\n",
       "      <td>2010-01-04</td>\n",
       "      <td>18.51</td>\n",
       "      <td>18.6200</td>\n",
       "      <td>18.11</td>\n",
       "      <td>18.49</td>\n",
       "      <td>20005100.0</td>\n",
       "      <td>0.0</td>\n",
       "      <td>1.0</td>\n",
       "      <td>17.175423</td>\n",
       "      <td>17.277492</td>\n",
       "      <td>16.804263</td>\n",
       "      <td>17.156865</td>\n",
       "      <td>20005100.0</td>\n",
       "    </tr>\n",
       "    <tr>\n",
       "      <th>1</th>\n",
       "      <td>2010-01-05</td>\n",
       "      <td>18.51</td>\n",
       "      <td>18.9600</td>\n",
       "      <td>18.42</td>\n",
       "      <td>18.76</td>\n",
       "      <td>18216200.0</td>\n",
       "      <td>0.0</td>\n",
       "      <td>1.0</td>\n",
       "      <td>17.175423</td>\n",
       "      <td>17.592978</td>\n",
       "      <td>17.091912</td>\n",
       "      <td>17.407398</td>\n",
       "      <td>18216200.0</td>\n",
       "    </tr>\n",
       "    <tr>\n",
       "      <th>2</th>\n",
       "      <td>2010-01-06</td>\n",
       "      <td>18.75</td>\n",
       "      <td>18.9200</td>\n",
       "      <td>18.57</td>\n",
       "      <td>18.88</td>\n",
       "      <td>16229200.0</td>\n",
       "      <td>0.0</td>\n",
       "      <td>1.0</td>\n",
       "      <td>17.398119</td>\n",
       "      <td>17.555862</td>\n",
       "      <td>17.231097</td>\n",
       "      <td>17.518746</td>\n",
       "      <td>16229200.0</td>\n",
       "    </tr>\n",
       "    <tr>\n",
       "      <th>3</th>\n",
       "      <td>2010-01-07</td>\n",
       "      <td>18.78</td>\n",
       "      <td>18.8600</td>\n",
       "      <td>18.37</td>\n",
       "      <td>18.51</td>\n",
       "      <td>13694800.0</td>\n",
       "      <td>0.0</td>\n",
       "      <td>1.0</td>\n",
       "      <td>17.425956</td>\n",
       "      <td>17.500188</td>\n",
       "      <td>17.045517</td>\n",
       "      <td>17.175423</td>\n",
       "      <td>13694800.0</td>\n",
       "    </tr>\n",
       "    <tr>\n",
       "      <th>4</th>\n",
       "      <td>2010-01-08</td>\n",
       "      <td>18.36</td>\n",
       "      <td>18.6821</td>\n",
       "      <td>18.25</td>\n",
       "      <td>18.55</td>\n",
       "      <td>11954200.0</td>\n",
       "      <td>0.0</td>\n",
       "      <td>1.0</td>\n",
       "      <td>17.036238</td>\n",
       "      <td>17.335115</td>\n",
       "      <td>16.934169</td>\n",
       "      <td>17.212539</td>\n",
       "      <td>11954200.0</td>\n",
       "    </tr>\n",
       "  </tbody>\n",
       "</table>\n",
       "</div>"
      ],
      "text/plain": [
       "         Date   Open     High    Low  Close      Volume  Ex-Dividend  \\\n",
       "0  2010-01-04  18.51  18.6200  18.11  18.49  20005100.0          0.0   \n",
       "1  2010-01-05  18.51  18.9600  18.42  18.76  18216200.0          0.0   \n",
       "2  2010-01-06  18.75  18.9200  18.57  18.88  16229200.0          0.0   \n",
       "3  2010-01-07  18.78  18.8600  18.37  18.51  13694800.0          0.0   \n",
       "4  2010-01-08  18.36  18.6821  18.25  18.55  11954200.0          0.0   \n",
       "\n",
       "   Split Ratio  Adj. Open  Adj. High   Adj. Low  Adj. Close  Adj. Volume  \n",
       "0          1.0  17.175423  17.277492  16.804263   17.156865   20005100.0  \n",
       "1          1.0  17.175423  17.592978  17.091912   17.407398   18216200.0  \n",
       "2          1.0  17.398119  17.555862  17.231097   17.518746   16229200.0  \n",
       "3          1.0  17.425956  17.500188  17.045517   17.175423   13694800.0  \n",
       "4          1.0  17.036238  17.335115  16.934169   17.212539   11954200.0  "
      ]
     },
     "execution_count": 3,
     "metadata": {},
     "output_type": "execute_result"
    }
   ],
   "source": [
    "nvidia.head()"
   ]
  },
  {
   "cell_type": "code",
   "execution_count": 49,
   "metadata": {},
   "outputs": [
    {
     "data": {
      "text/plain": [
       "[<matplotlib.lines.Line2D at 0x7fccce00ed30>]"
      ]
     },
     "execution_count": 49,
     "metadata": {},
     "output_type": "execute_result"
    },
    {
     "data": {
      "image/png": "[encoded data removed]",
      "text/plain": [
       "<Figure size 432x288 with 1 Axes>"
      ]
     },
     "metadata": {
      "needs_background": "light"
     },
     "output_type": "display_data"
    }
   ],
   "source": [
    "plt.plot(range(0, len(amd['Open'])), amd['Open'])"
   ]
  },
  {
   "cell_type": "code",
   "execution_count": 5,
   "metadata": {},
   "outputs": [
    {
     "data": {
      "text/plain": [
       "[<matplotlib.lines.Line2D at 0x7fcce6af8580>]"
      ]
     },
     "execution_count": 5,
     "metadata": {},
     "output_type": "execute_result"
    },
    {
     "data": {
      "image/png": "[encoded data removed]",
      "text/plain": [
       "<Figure size 432x288 with 1 Axes>"
      ]
     },
     "metadata": {
      "needs_background": "light"
     },
     "output_type": "display_data"
    }
   ],
   "source": [
    "plt.plot(range(0, len(nvidia['Open'])), nvidia['Open'])"
   ]
  },
  {
   "cell_type": "code",
   "execution_count": 6,
   "metadata": {},
   "outputs": [],
   "source": [
    "from scipy import signal"
   ]
  },
  {
   "cell_type": "code",
   "execution_count": 57,
   "metadata": {},
   "outputs": [],
   "source": [
    "amd['Open'] = signal.detrend(amd['Open']).tolist()\n",
    "amd['Close'] = signal.detrend(amd['Close']).tolist()\n",
    "nvidia['Open'] = signal.detrend(nvidia['Open']).tolist()\n",
    "nvidia['Close'] = signal.detrend(nvidia['Close']).tolist()"
   ]
  },
  {
   "cell_type": "code",
   "execution_count": 24,
   "metadata": {},
   "outputs": [
    {
     "data": {
      "text/plain": [
       "[<matplotlib.lines.Line2D at 0x7fcce6a9df70>]"
      ]
     },
     "execution_count": 24,
     "metadata": {},
     "output_type": "execute_result"
    },
    {
     "data": {
      "image/png": "[encoded data removed]",
      "text/plain": [
       "<Figure size 432x288 with 1 Axes>"
      ]
     },
     "metadata": {
      "needs_background": "light"
     },
     "output_type": "display_data"
    }
   ],
   "source": [
    "plt.plot(range(0,len(amd['Open'])), amd['Open'])"
   ]
  },
  {
   "cell_type": "code",
   "execution_count": 26,
   "metadata": {},
   "outputs": [
    {
     "data": {
      "text/plain": [
       "[<matplotlib.lines.Line2D at 0x7fccce1b4fa0>]"
      ]
     },
     "execution_count": 26,
     "metadata": {},
     "output_type": "execute_result"
    },
    {
     "data": {
      "image/png": "[encoded data removed]",
      "text/plain": [
       "<Figure size 432x288 with 1 Axes>"
      ]
     },
     "metadata": {
      "needs_background": "light"
     },
     "output_type": "display_data"
    }
   ],
   "source": [
    "plt.plot(range(0,len(nvidia['Open'])), nvidia['Open'])"
   ]
  },
  {
   "cell_type": "code",
   "execution_count": 58,
   "metadata": {},
   "outputs": [
    {
     "name": "stdout",
     "output_type": "stream",
     "text": [
      "-4.82530098489656\n",
      "-4.822644406304088\n",
      "-52.395453851252945\n",
      "-51.884455708981335\n"
     ]
    }
   ],
   "source": [
    "print(amd['Open'].min())\n",
    "print(amd['Open'].min())\n",
    "print(nvidia['Open'].min())\n",
    "print(nvidia['Close'].min())"
   ]
  },
  {
   "cell_type": "code",
   "execution_count": 61,
   "metadata": {},
   "outputs": [],
   "source": [
    "amd['Open'] += 53.\n",
    "amd['Open'] += 53.\n",
    "nvidia['Open'] += 53.\n",
    "nvidia['Close']+= 53."
   ]
  },
  {
   "cell_type": "code",
   "execution_count": 62,
   "metadata": {},
   "outputs": [
    {
     "data": {
      "text/plain": [
       "[<matplotlib.lines.Line2D at 0x7fcccdfd9e80>]"
      ]
     },
     "execution_count": 62,
     "metadata": {},
     "output_type": "execute_result"
    },
    {
     "data": {
      "image/png": "[encoded data removed]",
      "text/plain": [
       "<Figure size 432x288 with 1 Axes>"
      ]
     },
     "metadata": {
      "needs_background": "light"
     },
     "output_type": "display_data"
    }
   ],
   "source": [
    "plt.plot(range(0,len(amd['Open'])), amd['Open'])"
   ]
  },
  {
   "cell_type": "code",
   "execution_count": 63,
   "metadata": {},
   "outputs": [
    {
     "data": {
      "text/plain": [
       "[<matplotlib.lines.Line2D at 0x7fcccdd87670>]"
      ]
     },
     "execution_count": 63,
     "metadata": {},
     "output_type": "execute_result"
    },
    {
     "data": {
      "image/png": "[encoded data removed]",
      "text/plain": [
       "<Figure size 432x288 with 1 Axes>"
      ]
     },
     "metadata": {
      "needs_background": "light"
     },
     "output_type": "display_data"
    }
   ],
   "source": [
    "plt.plot(range(0,len(nvidia['Open'])), nvidia['Open'])"
   ]
  },
  {
   "cell_type": "code",
   "execution_count": 64,
   "metadata": {},
   "outputs": [
    {
     "data": {
      "text/html": [
       "<div>\n",
       "<style scoped>\n",
       "    .dataframe tbody tr th:only-of-type {\n",
       "        vertical-align: middle;\n",
       "    }\n",
       "\n",
       "    .dataframe tbody tr th {\n",
       "        vertical-align: top;\n",
       "    }\n",
       "\n",
       "    .dataframe thead th {\n",
       "        text-align: right;\n",
       "    }\n",
       "</style>\n",
       "<table border=\"1\" class=\"dataframe\">\n",
       "  <thead>\n",
       "    <tr style=\"text-align: right;\">\n",
       "      <th></th>\n",
       "      <th>Date</th>\n",
       "      <th>Open</th>\n",
       "      <th>High</th>\n",
       "      <th>Low</th>\n",
       "      <th>Close</th>\n",
       "      <th>Volume</th>\n",
       "      <th>Ex-Dividend</th>\n",
       "      <th>Split Ratio</th>\n",
       "      <th>Adj. Open</th>\n",
       "      <th>Adj. High</th>\n",
       "      <th>Adj. Low</th>\n",
       "      <th>Adj. Close</th>\n",
       "      <th>Adj. Volume</th>\n",
       "    </tr>\n",
       "  </thead>\n",
       "  <tbody>\n",
       "    <tr>\n",
       "      <th>0</th>\n",
       "      <td>2010-01-04</td>\n",
       "      <td>110.783066</td>\n",
       "      <td>9.90</td>\n",
       "      <td>9.68</td>\n",
       "      <td>4.698466</td>\n",
       "      <td>18748700.0</td>\n",
       "      <td>0.0</td>\n",
       "      <td>1.0</td>\n",
       "      <td>9.79</td>\n",
       "      <td>9.90</td>\n",
       "      <td>9.68</td>\n",
       "      <td>9.70</td>\n",
       "      <td>18748700.0</td>\n",
       "    </tr>\n",
       "    <tr>\n",
       "      <th>1</th>\n",
       "      <td>2010-01-05</td>\n",
       "      <td>110.702038</td>\n",
       "      <td>9.90</td>\n",
       "      <td>9.68</td>\n",
       "      <td>4.707440</td>\n",
       "      <td>22145700.0</td>\n",
       "      <td>0.0</td>\n",
       "      <td>1.0</td>\n",
       "      <td>9.71</td>\n",
       "      <td>9.90</td>\n",
       "      <td>9.68</td>\n",
       "      <td>9.71</td>\n",
       "      <td>22145700.0</td>\n",
       "    </tr>\n",
       "    <tr>\n",
       "      <th>2</th>\n",
       "      <td>2010-01-06</td>\n",
       "      <td>110.671011</td>\n",
       "      <td>9.76</td>\n",
       "      <td>9.55</td>\n",
       "      <td>4.566414</td>\n",
       "      <td>18643400.0</td>\n",
       "      <td>0.0</td>\n",
       "      <td>1.0</td>\n",
       "      <td>9.68</td>\n",
       "      <td>9.76</td>\n",
       "      <td>9.55</td>\n",
       "      <td>9.57</td>\n",
       "      <td>18643400.0</td>\n",
       "    </tr>\n",
       "    <tr>\n",
       "      <th>3</th>\n",
       "      <td>2010-01-07</td>\n",
       "      <td>110.499984</td>\n",
       "      <td>9.55</td>\n",
       "      <td>9.18</td>\n",
       "      <td>4.465387</td>\n",
       "      <td>26806800.0</td>\n",
       "      <td>0.0</td>\n",
       "      <td>1.0</td>\n",
       "      <td>9.51</td>\n",
       "      <td>9.55</td>\n",
       "      <td>9.18</td>\n",
       "      <td>9.47</td>\n",
       "      <td>26806800.0</td>\n",
       "    </tr>\n",
       "    <tr>\n",
       "      <th>4</th>\n",
       "      <td>2010-01-08</td>\n",
       "      <td>110.358956</td>\n",
       "      <td>9.47</td>\n",
       "      <td>9.29</td>\n",
       "      <td>4.424361</td>\n",
       "      <td>13752800.0</td>\n",
       "      <td>0.0</td>\n",
       "      <td>1.0</td>\n",
       "      <td>9.37</td>\n",
       "      <td>9.47</td>\n",
       "      <td>9.29</td>\n",
       "      <td>9.43</td>\n",
       "      <td>13752800.0</td>\n",
       "    </tr>\n",
       "  </tbody>\n",
       "</table>\n",
       "</div>"
      ],
      "text/plain": [
       "         Date        Open  High   Low     Close      Volume  Ex-Dividend  \\\n",
       "0  2010-01-04  110.783066  9.90  9.68  4.698466  18748700.0          0.0   \n",
       "1  2010-01-05  110.702038  9.90  9.68  4.707440  22145700.0          0.0   \n",
       "2  2010-01-06  110.671011  9.76  9.55  4.566414  18643400.0          0.0   \n",
       "3  2010-01-07  110.499984  9.55  9.18  4.465387  26806800.0          0.0   \n",
       "4  2010-01-08  110.358956  9.47  9.29  4.424361  13752800.0          0.0   \n",
       "\n",
       "   Split Ratio  Adj. Open  Adj. High  Adj. Low  Adj. Close  Adj. Volume  \n",
       "0          1.0       9.79       9.90      9.68        9.70   18748700.0  \n",
       "1          1.0       9.71       9.90      9.68        9.71   22145700.0  \n",
       "2          1.0       9.68       9.76      9.55        9.57   18643400.0  \n",
       "3          1.0       9.51       9.55      9.18        9.47   26806800.0  \n",
       "4          1.0       9.37       9.47      9.29        9.43   13752800.0  "
      ]
     },
     "execution_count": 64,
     "metadata": {},
     "output_type": "execute_result"
    }
   ],
   "source": [
    "amd.head()"
   ]
  },
  {
   "cell_type": "code",
   "execution_count": 65,
   "metadata": {},
   "outputs": [
    {
     "data": {
      "text/html": [
       "<div>\n",
       "<style scoped>\n",
       "    .dataframe tbody tr th:only-of-type {\n",
       "        vertical-align: middle;\n",
       "    }\n",
       "\n",
       "    .dataframe tbody tr th {\n",
       "        vertical-align: top;\n",
       "    }\n",
       "\n",
       "    .dataframe thead th {\n",
       "        text-align: right;\n",
       "    }\n",
       "</style>\n",
       "<table border=\"1\" class=\"dataframe\">\n",
       "  <thead>\n",
       "    <tr style=\"text-align: right;\">\n",
       "      <th></th>\n",
       "      <th>Date</th>\n",
       "      <th>Open</th>\n",
       "      <th>High</th>\n",
       "      <th>Low</th>\n",
       "      <th>Close</th>\n",
       "      <th>Volume</th>\n",
       "      <th>Ex-Dividend</th>\n",
       "      <th>Split Ratio</th>\n",
       "      <th>Adj. Open</th>\n",
       "      <th>Adj. High</th>\n",
       "      <th>Adj. Low</th>\n",
       "      <th>Adj. Close</th>\n",
       "      <th>Adj. Volume</th>\n",
       "    </tr>\n",
       "  </thead>\n",
       "  <tbody>\n",
       "    <tr>\n",
       "      <th>0</th>\n",
       "      <td>2010-01-04</td>\n",
       "      <td>97.447593</td>\n",
       "      <td>18.6200</td>\n",
       "      <td>18.11</td>\n",
       "      <td>97.434550</td>\n",
       "      <td>20005100.0</td>\n",
       "      <td>0.0</td>\n",
       "      <td>1.0</td>\n",
       "      <td>17.175423</td>\n",
       "      <td>17.277492</td>\n",
       "      <td>16.804263</td>\n",
       "      <td>17.156865</td>\n",
       "      <td>20005100.0</td>\n",
       "    </tr>\n",
       "    <tr>\n",
       "      <th>1</th>\n",
       "      <td>2010-01-05</td>\n",
       "      <td>97.380505</td>\n",
       "      <td>18.9600</td>\n",
       "      <td>18.42</td>\n",
       "      <td>97.637453</td>\n",
       "      <td>18216200.0</td>\n",
       "      <td>0.0</td>\n",
       "      <td>1.0</td>\n",
       "      <td>17.175423</td>\n",
       "      <td>17.592978</td>\n",
       "      <td>17.091912</td>\n",
       "      <td>17.407398</td>\n",
       "      <td>18216200.0</td>\n",
       "    </tr>\n",
       "    <tr>\n",
       "      <th>2</th>\n",
       "      <td>2010-01-06</td>\n",
       "      <td>97.553418</td>\n",
       "      <td>18.9200</td>\n",
       "      <td>18.57</td>\n",
       "      <td>97.690355</td>\n",
       "      <td>16229200.0</td>\n",
       "      <td>0.0</td>\n",
       "      <td>1.0</td>\n",
       "      <td>17.398119</td>\n",
       "      <td>17.555862</td>\n",
       "      <td>17.231097</td>\n",
       "      <td>17.518746</td>\n",
       "      <td>16229200.0</td>\n",
       "    </tr>\n",
       "    <tr>\n",
       "      <th>3</th>\n",
       "      <td>2010-01-07</td>\n",
       "      <td>97.516331</td>\n",
       "      <td>18.8600</td>\n",
       "      <td>18.37</td>\n",
       "      <td>97.253257</td>\n",
       "      <td>13694800.0</td>\n",
       "      <td>0.0</td>\n",
       "      <td>1.0</td>\n",
       "      <td>17.425956</td>\n",
       "      <td>17.500188</td>\n",
       "      <td>17.045517</td>\n",
       "      <td>17.175423</td>\n",
       "      <td>13694800.0</td>\n",
       "    </tr>\n",
       "    <tr>\n",
       "      <th>4</th>\n",
       "      <td>2010-01-08</td>\n",
       "      <td>97.029244</td>\n",
       "      <td>18.6821</td>\n",
       "      <td>18.25</td>\n",
       "      <td>97.226160</td>\n",
       "      <td>11954200.0</td>\n",
       "      <td>0.0</td>\n",
       "      <td>1.0</td>\n",
       "      <td>17.036238</td>\n",
       "      <td>17.335115</td>\n",
       "      <td>16.934169</td>\n",
       "      <td>17.212539</td>\n",
       "      <td>11954200.0</td>\n",
       "    </tr>\n",
       "  </tbody>\n",
       "</table>\n",
       "</div>"
      ],
      "text/plain": [
       "         Date       Open     High    Low      Close      Volume  Ex-Dividend  \\\n",
       "0  2010-01-04  97.447593  18.6200  18.11  97.434550  20005100.0          0.0   \n",
       "1  2010-01-05  97.380505  18.9600  18.42  97.637453  18216200.0          0.0   \n",
       "2  2010-01-06  97.553418  18.9200  18.57  97.690355  16229200.0          0.0   \n",
       "3  2010-01-07  97.516331  18.8600  18.37  97.253257  13694800.0          0.0   \n",
       "4  2010-01-08  97.029244  18.6821  18.25  97.226160  11954200.0          0.0   \n",
       "\n",
       "   Split Ratio  Adj. Open  Adj. High   Adj. Low  Adj. Close  Adj. Volume  \n",
       "0          1.0  17.175423  17.277492  16.804263   17.156865   20005100.0  \n",
       "1          1.0  17.175423  17.592978  17.091912   17.407398   18216200.0  \n",
       "2          1.0  17.398119  17.555862  17.231097   17.518746   16229200.0  \n",
       "3          1.0  17.425956  17.500188  17.045517   17.175423   13694800.0  \n",
       "4          1.0  17.036238  17.335115  16.934169   17.212539   11954200.0  "
      ]
     },
     "execution_count": 65,
     "metadata": {},
     "output_type": "execute_result"
    }
   ],
   "source": [
    "nvidia.head()"
   ]
  },
  {
   "cell_type": "code",
   "execution_count": 67,
   "metadata": {},
   "outputs": [],
   "source": [
    "amd.to_csv('amd_denoise_shift.csv')\n",
    "nvidia.to_csv('nvidia_denoise_shift.csv')"
   ]
  },
  {
   "cell_type": "code",
   "execution_count": 66,
   "metadata": {},
   "outputs": [
    {
     "name": "stdout",
     "output_type": "stream",
     "text": [
      "2071\n",
      "2071\n"
     ]
    }
   ],
   "source": [
    "print(len(amd))\n",
    "print(len(nvidia))"
   ]
  }
 ],
 "metadata": {
  "kernelspec": {
   "display_name": "Python 3",
   "language": "python",
   "name": "python3"
  },
  "language_info": {
   "codemirror_mode": {
    "name": "ipython",
    "version": 3
   },
   "file_extension": ".py",
   "mimetype": "text/x-python",
   "name": "python",
   "nbconvert_exporter": "python",
   "pygments_lexer": "ipython3",
   "version": "3.8.5"
  }
 },
 "nbformat": 4,
 "nbformat_minor": 4
}
